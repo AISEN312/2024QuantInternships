{
  "nbformat": 4,
  "nbformat_minor": 0,
  "metadata": {
    "colab": {
      "provenance": [],
      "authorship_tag": "ABX9TyOfnY9dAAKEf0fY2u3eO3fA",
      "include_colab_link": true
    },
    "kernelspec": {
      "name": "python3",
      "display_name": "Python 3"
    },
    "language_info": {
      "name": "python"
    }
  },
  "cells": [
    {
      "cell_type": "markdown",
      "metadata": {
        "id": "view-in-github",
        "colab_type": "text"
      },
      "source": [
        "<a href=\"https://colab.research.google.com/github/AISEN312/2024QuantInternships/blob/main/FRAM_TABLES.ipynb\" target=\"_parent\"><img src=\"https://colab.research.google.com/assets/colab-badge.svg\" alt=\"Open In Colab\"/></a>"
      ]
    },
    {
      "cell_type": "code",
      "execution_count": 6,
      "metadata": {
        "id": "maujuzivnhp9"
      },
      "outputs": [],
      "source": [
        "import pandas as pd\n",
        "import numpy as np\n",
        "from scipy.stats import skew, kurtosis, pearsonr, jarque_bera\n",
        "from statsmodels.tsa.stattools import adfuller\n",
        "from statsmodels.stats.diagnostic import acorr_ljungbox\n",
        "from statsmodels.tsa.arima.model import ARIMA"
      ]
    },
    {
      "cell_type": "code",
      "source": [
        "crude_oil_data = pd.read_excel('/content/crudeF.xlsx')\n",
        "# Load natural gas price data\n",
        "nat_gas_data = pd.read_excel('/content/Natural gas futures india.xlsx')"
      ],
      "metadata": {
        "id": "v99OLGrAn0Dm"
      },
      "execution_count": 5,
      "outputs": []
    },
    {
      "cell_type": "code",
      "source": [
        "# Descriptive statistics calculation\n",
        "def descriptive_statistics(series):\n",
        "    stats = {\n",
        "        'Mean': series.mean(),\n",
        "        'Standard Deviation': series.std(),\n",
        "        'Skewness': skew(series),\n",
        "        'Kurtosis': kurtosis(series),\n",
        "    }\n",
        "    jb_stat, jb_p = jarque_bera(series)\n",
        "    stats['JB Statistic'] = jb_stat\n",
        "    stats['JB p-value'] = jb_p\n",
        "    return stats\n",
        "\n",
        "# ADF test for stationarity\n",
        "def adf_test(series):\n",
        "    adf_stat, p_value, _, _, crit_values, _ = adfuller(series)\n",
        "    return {'ADF Statistic': adf_stat, 'p-value': p_value, 'Critical Values': crit_values}\n",
        "\n",
        "# Ljung-Box test for autocorrelation\n",
        "def ljung_box_test(series, lags):\n",
        "    result = acorr_ljungbox(series, lags=[lags], return_df=True)\n",
        "    return {'LB Statistic': result['lb_stat'].iloc[0], 'p-value': result['lb_pvalue'].iloc[0]}\n",
        "\n",
        "# Pearson correlation\n",
        "def unconditional_pearson_corr(series1, series2):\n",
        "    corr, p_value = pearsonr(series1, series2)\n",
        "    return {'Correlation': corr, 'p-value': p_value}\n"
      ],
      "metadata": {
        "id": "Et_-iJLeoETi"
      },
      "execution_count": 7,
      "outputs": []
    },
    {
      "cell_type": "code",
      "source": [
        "\n",
        "  import pandas as pd\n",
        "import numpy as np\n",
        "from scipy.stats import skew, kurtosis, pearsonr, jarque_bera\n",
        "from statsmodels.tsa.stattools import adfuller\n",
        "from statsmodels.stats.diagnostic import acorr_ljungbox\n",
        "from statsmodels.tsa.arima.model import ARIMA\n",
        "\n",
        "# ... (your data loading code)\n",
        "\n",
        "# Descriptive statistics calculation\n",
        "def descriptive_statistics(series):\n",
        "    # Remove infinite and NaN values before calculating statistics\n",
        "    series = series.replace([np.inf, -np.inf], np.nan).dropna()\n",
        "    stats = {\n",
        "        'Mean': series.mean(),\n",
        "        'Standard Deviation': series.std(),\n",
        "        'Skewness': skew(series),\n",
        "        'Kurtosis': kurtosis(series),\n",
        "    }\n",
        "    jb_stat, jb_p = jarque_bera(series)\n",
        "    stats['JB Statistic'] = jb_stat\n",
        "    stats['JB p-value'] = jb_p\n",
        "    return stats\n",
        "\n",
        "# ADF test for stationarity\n",
        "def adf_test(series):\n",
        "    # Remove infinite and NaN values before ADF test\n",
        "    series = series.replace([np.inf, -np.inf], np.nan).dropna()\n",
        "    adf_stat, p_value, _, _, crit_values, _ = adfuller(series)\n",
        "    return {'ADF Statistic': adf_stat, 'p-value': p_value, 'Critical Values': crit_values}\n",
        "\n",
        "# Ljung-Box test for autocorrelation\n",
        "def ljung_box_test(series, lags):\n",
        "    # Remove infinite and NaN values before Ljung-Box test\n",
        "    series = series.replace([np.inf, -np.inf], np.nan).dropna()\n",
        "    result = acorr_ljungbox(series, lags=[lags], return_df=True)\n",
        "    return {'LB Statistic': result['lb_stat'].iloc[0], 'p-value': result['lb_pvalue'].iloc[0]}\n",
        "\n",
        "# Pearson correlation\n",
        "def unconditional_pearson_corr(series1, series2):\n",
        "    # Remove infinite and NaN values before calculating correlation\n",
        "    series1 = series1.replace([np.inf, -np.inf], np.nan).dropna()\n",
        "    series2 = series2.replace([np.inf, -np.inf], np.nan).dropna()\n",
        "    corr, p_value = pearsonr(series1, series2)\n",
        "    return {'Correlation': corr, 'p-value': p_value}\n",
        "\n",
        "# ... (your analysis code)\n",
        "\n",
        "# Crude oil descriptive statistics\n",
        "crude_oil_stats = descriptive_statistics(crude_oil_data['Last Price  (R3)']) # Make sure column name is correct\n",
        "crude_oil_adf = adf_test(crude_oil_data['Last Price  (R3)']) # Make sure column name is correct\n",
        "crude_oil_ljung_box_10 = ljung_box_test(crude_oil_data['Last Price  (R3)'], lags=10) # Make sure column name is correct\n",
        "\n",
        "\n",
        "# Natural gas descriptive statistics\n",
        "nat_gas_stats = descriptive_statistics(nat_gas_data['Settle Price'])\n",
        "nat_gas_adf = adf_test(nat_gas_data['Settle Price'])\n",
        "nat_gas_ljung_box_20 = ljung_box_test(nat_gas_data['Settle Price'], lags=20) # Corrected the variable name to nat_gas_ljung_box_20"
      ],
      "metadata": {
        "id": "UYdRwngPp9tj"
      },
      "execution_count": 15,
      "outputs": []
    },
    {
      "cell_type": "code",
      "source": [
        "# Combine results into dataframes\n",
        "crude_oil_summary = pd.DataFrame([crude_oil_stats, crude_oil_adf, crude_oil_ljung_box_10])\n",
        "nat_gas_summary = pd.DataFrame([nat_gas_stats, nat_gas_adf, nat_gas_ljung_box_20])\n",
        "\n",
        "print(\"Descriptive Statistics for Crude Oil Prices:\\n\", crude_oil_summary)\n",
        "print(\"Descriptive Statistics for Natural Gas Prices:\\n\", nat_gas_summary)"
      ],
      "metadata": {
        "colab": {
          "base_uri": "https://localhost:8080/"
        },
        "id": "CyJxRFcZqgab",
        "outputId": "c8c90167-58a5-4f8b-9ff4-242483ed4913"
      },
      "execution_count": 16,
      "outputs": [
        {
          "output_type": "stream",
          "name": "stdout",
          "text": [
            "Descriptive Statistics for Crude Oil Prices:\n",
            "           Mean  Standard Deviation  Skewness  Kurtosis  JB Statistic  \\\n",
            "0  4388.044953         1451.962734  0.591762 -0.100235    298.143728   \n",
            "1          NaN                 NaN       NaN       NaN           NaN   \n",
            "2          NaN                 NaN       NaN       NaN           NaN   \n",
            "\n",
            "     JB p-value  ADF Statistic   p-value  \\\n",
            "0  1.815148e-65            NaN       NaN   \n",
            "1           NaN      -2.364871  0.151898   \n",
            "2           NaN            NaN  0.000000   \n",
            "\n",
            "                                     Critical Values  LB Statistic  \n",
            "0                                                NaN           NaN  \n",
            "1  {'1%': -3.431640711105285, '5%': -2.8621103564...           NaN  \n",
            "2                                                NaN  49341.867843  \n",
            "Descriptive Statistics for Natural Gas Prices:\n",
            "          Mean  Standard Deviation  Skewness  Kurtosis  JB Statistic  \\\n",
            "0  4411.42381         1591.226438  0.051778  1.199522     12.683791   \n",
            "1         NaN                 NaN       NaN       NaN           NaN   \n",
            "2         NaN                 NaN       NaN       NaN           NaN   \n",
            "\n",
            "   JB p-value  ADF Statistic        p-value  \\\n",
            "0    0.001761            NaN            NaN   \n",
            "1         NaN      -3.204241   1.974050e-02   \n",
            "2         NaN            NaN  1.302161e-250   \n",
            "\n",
            "                                     Critical Values  LB Statistic  \n",
            "0                                                NaN           NaN  \n",
            "1  {'1%': -3.4620315036789666, '5%': -2.875470502...           NaN  \n",
            "2                                                NaN   1240.938586  \n"
          ]
        }
      ]
    },
    {
      "cell_type": "code",
      "source": [
        "# Calculate returns\n",
        "crude_oil_returns = crude_oil_data['Last Price  (R3)'].pct_change().dropna() # Corrected column name\n",
        "nat_gas_returns = nat_gas_data['Settle Price'].pct_change().dropna()\n",
        "\n",
        "# Descriptive statistics for returns\n",
        "crude_oil_return_stats = descriptive_statistics(crude_oil_returns)\n",
        "nat_gas_return_stats = descriptive_statistics(nat_gas_returns)\n",
        "\n",
        "print(\"Descriptive Statistics for Crude Oil Returns:\\n\", crude_oil_return_stats)\n",
        "print(\"Descriptive Statistics for Natural Gas Returns:\\n\", nat_gas_return_stats)\n"
      ],
      "metadata": {
        "colab": {
          "base_uri": "https://localhost:8080/"
        },
        "id": "Jhb6_Lpmqs-X",
        "outputId": "e67da51e-3d50-48ed-934c-fd1746a3e24d"
      },
      "execution_count": 19,
      "outputs": [
        {
          "output_type": "stream",
          "name": "stdout",
          "text": [
            "Descriptive Statistics for Crude Oil Returns:\n",
            " {'Mean': -0.0007919167086414362, 'Standard Deviation': 0.0545755322833896, 'Skewness': -42.355683151248705, 'Kurtosis': 2348.6750879336882, 'JB Statistic': 1181097871.3178437, 'JB p-value': 0.0}\n",
            "Descriptive Statistics for Natural Gas Returns:\n",
            " {'Mean': -0.009890239838885019, 'Standard Deviation': 0.22923282745315562, 'Skewness': -7.827812764839637, 'Kurtosis': 77.55207189327763, 'JB Statistic': 62072.606117851006, 'JB p-value': 0.0}\n"
          ]
        },
        {
          "output_type": "stream",
          "name": "stderr",
          "text": [
            "<ipython-input-19-6f7eea3b3241>:2: FutureWarning: The default fill_method='pad' in Series.pct_change is deprecated and will be removed in a future version. Either fill in any non-leading NA values prior to calling pct_change or specify 'fill_method=None' to not fill NA values.\n",
            "  crude_oil_returns = crude_oil_data['Last Price  (R3)'].pct_change().dropna() # Corrected column name\n",
            "<ipython-input-19-6f7eea3b3241>:3: FutureWarning: The default fill_method='pad' in Series.pct_change is deprecated and will be removed in a future version. Either fill in any non-leading NA values prior to calling pct_change or specify 'fill_method=None' to not fill NA values.\n",
            "  nat_gas_returns = nat_gas_data['Settle Price'].pct_change().dropna()\n"
          ]
        }
      ]
    },
    {
      "cell_type": "code",
      "source": [
        "# Pearson correlation for price series\n",
        "# Changed 'Last Price' to 'Last Price  (R3)'\n",
        "\n",
        "# Ensure both series have the same length by taking the minimum length before dropping NaN\n",
        "min_len = min(len(crude_oil_data['Last Price  (R3)']), len(nat_gas_data['Settle Price']))\n",
        "crude_oil_prices = crude_oil_data['Last Price  (R3)'][:min_len].replace([np.inf, -np.inf], np.nan).dropna()\n",
        "nat_gas_prices = nat_gas_data['Settle Price'][:min_len].replace([np.inf, -np.inf], np.nan).dropna()\n",
        "\n",
        "# Reindex both series to the same index to ensure alignment\n",
        "common_index = crude_oil_prices.index.intersection(nat_gas_prices.index)\n",
        "crude_oil_prices = crude_oil_prices.loc[common_index]\n",
        "nat_gas_prices = nat_gas_prices.loc[common_index]\n",
        "\n",
        "price_corr = unconditional_pearson_corr(crude_oil_prices, nat_gas_prices)\n",
        "print(\"Unconditional Pearson Correlation (Prices):\\n\", price_corr)\n",
        "\n",
        "\n",
        "# Pearson correlation for returns series\n",
        "# Ensure both series have the same length by taking the minimum length before dropping NaN\n",
        "min_len = min(len(crude_oil_returns), len(nat_gas_returns))\n",
        "crude_oil_ret = crude_oil_returns[:min_len].replace([np.inf, -np.inf], np.nan).dropna()\n",
        "nat_gas_ret = nat_gas_returns[:min_len].replace([np.inf, -np.inf], np.nan).dropna()\n",
        "\n",
        "# Reindex both series to the same index to ensure alignment\n",
        "common_index = crude_oil_ret.index.intersection(nat_gas_ret.index)\n",
        "crude_oil_ret = crude_oil_ret.loc[common_index]\n",
        "nat_gas_ret = nat_gas_ret.loc[common_index]\n",
        "\n",
        "return_corr = unconditional_pearson_corr(crude_oil_ret, nat_gas_ret)\n",
        "print(\"Unconditional Pearson Correlation (Returns):\\n\", return_corr)"
      ],
      "metadata": {
        "colab": {
          "base_uri": "https://localhost:8080/"
        },
        "id": "6RX8BJABrOCr",
        "outputId": "57fbcd19-5e94-40f3-8933-95b5d4c24a8c"
      },
      "execution_count": 23,
      "outputs": [
        {
          "output_type": "stream",
          "name": "stdout",
          "text": [
            "Unconditional Pearson Correlation (Prices):\n",
            " {'Correlation': 0.04306755558140864, 'p-value': 0.5367911173456665}\n",
            "Unconditional Pearson Correlation (Returns):\n",
            " {'Correlation': 0.08512178552470345, 'p-value': 0.19254443232407087}\n"
          ]
        }
      ]
    },
    {
      "cell_type": "code",
      "source": [
        "def naive_rolling_forecast(series, window_size, h_step=1):\n",
        "    forecast_errors = []\n",
        "\n",
        "    for i in range(window_size, len(series) - h_step):\n",
        "        # Define the training window\n",
        "        train = series[i - window_size:i]\n",
        "\n",
        "        # Naïve forecast: use the last value in the training window\n",
        "        forecast = [train.iloc[-1]] * h_step  # Repeat last value for h steps\n",
        "\n",
        "        # Calculate Mean Squared Error for the forecast\n",
        "        error = np.mean((series[i:i + h_step] - forecast) ** 2)\n",
        "        forecast_errors.append(error)\n",
        "\n",
        "    # Return the average forecast error\n",
        "    return np.mean(forecast_errors) if forecast_errors else None\n",
        "\n",
        "# Perform forecasting with different window sizes\n",
        "window_sizes = [500, 600, 650]"
      ],
      "metadata": {
        "id": "J3sttKS-wZC3"
      },
      "execution_count": 32,
      "outputs": []
    },
    {
      "cell_type": "code",
      "source": [
        "for window in window_sizes:\n",
        "    error_1_step = naive_rolling_forecast(crude_oil_data['Last Price  (R3)'], window_size=window, h_step=1)\n",
        "    error_h_step = naive_rolling_forecast(crude_oil_data['Last Price  (R3)'], window_size=window, h_step=5)\n",
        "    print(f\"1-step forecast error for window {window}: {error_1_step}\")\n",
        "    print(f\"h-step forecast error for window {window}: {error_h_step}\")"
      ],
      "metadata": {
        "colab": {
          "base_uri": "https://localhost:8080/"
        },
        "id": "IDExFAdLwIrM",
        "outputId": "972a087a-3883-4ebf-eaa2-6a2a5a9bde7e"
      },
      "execution_count": 34,
      "outputs": [
        {
          "output_type": "stream",
          "name": "stdout",
          "text": [
            "1-step forecast error for window 500: nan\n",
            "h-step forecast error for window 500: nan\n",
            "1-step forecast error for window 600: nan\n",
            "h-step forecast error for window 600: nan\n",
            "1-step forecast error for window 650: nan\n",
            "h-step forecast error for window 650: nan\n"
          ]
        }
      ]
    },
    {
      "cell_type": "code",
      "source": [
        "# Forecast for crude oil returns\n",
        "for window in window_sizes:\n",
        "    error_1_step_return = naive_rolling_forecast(crude_oil_returns, window_size=window, h_step=1)\n",
        "    error_h_step_return = naive_rolling_forecast(crude_oil_returns, window_size=window, h_step=5)\n",
        "    print(f\"1-step return forecast error for window {window}: {error_1_step_return}\")\n",
        "    print(f\"h-step return forecast error for window {window}: {error_h_step_return}\")"
      ],
      "metadata": {
        "colab": {
          "base_uri": "https://localhost:8080/"
        },
        "id": "a6PncaOnxX3p",
        "outputId": "c1837503-41e5-452e-c96a-b99e545cd9fb"
      },
      "execution_count": 35,
      "outputs": [
        {
          "output_type": "stream",
          "name": "stdout",
          "text": [
            "1-step return forecast error for window 500: 0.005126148977248985\n",
            "h-step return forecast error for window 500: 0.006424478477095376\n",
            "1-step return forecast error for window 600: 0.005200828280700215\n",
            "h-step return forecast error for window 600: 0.006525406267955493\n",
            "1-step return forecast error for window 650: 0.005234940546597101\n",
            "h-step return forecast error for window 650: 0.006570192119467596\n"
          ]
        }
      ]
    }
  ]
}